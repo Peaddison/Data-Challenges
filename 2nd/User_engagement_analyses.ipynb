{
 "cells": [
  {
   "cell_type": "markdown",
   "metadata": {},
   "source": [
    "# Investigating a Drop in User Engagement"
   ]
  },
  {
   "cell_type": "markdown",
   "metadata": {},
   "source": [
    "My objective in this notebook is to build a model to predict whether or not a biopsied breast cell is benign (not harmful) or malignant (cancerous), given a set of attributes about the cell.\n",
    "\n",
    "My approach is to first explore the data:\n",
    "- check for missing variables,\n",
    "- check for outliers, and\n",
    "- investigate sample distribution,\n",
    "- check whether or not there are any pairwise correlations.\n",
    "\n",
    "With the predictor size, being small enough, I don't think I will need to do any dimension reduction.\n",
    "\n",
    "\n",
    "### Some Conclusions\n",
    "- The user I designed this for is a lab analyst who performs the biopsies.\n",
    "- The use case is that he/ she will be able to flag the cells to focus attention.\n",
    "- The cost of predicting a false negative is high so I optimized the model on recall.\n",
    "- My aim was to build a model that identifies all cancer cases, with a limited misclassifications of false negatives.\n",
    "- With the data size being so small I took a rigorous approach to model training by doing a 10 fold cross validation. This was to test the stability of my model.\n",
    "- The results were:\n",
    "    - a mean cross validated recall of 97%, which proves model stability, and\n",
    "    - a final recall of 98%.\n",
    "    \n",
    "- The next phase is to optimize this model to achieve my objective recall of 100%."
   ]
  },
  {
   "cell_type": "markdown",
   "metadata": {},
   "source": [
    "\n",
    "\n",
    "\n",
    "## Loading in data and packages"
   ]
  },
  {
   "cell_type": "code",
   "execution_count": 1,
   "metadata": {},
   "outputs": [],
   "source": [
    "# Needed packages\n",
    "from urllib.request import urlopen    # to open web links\n",
    "import pandas as pd                   # for data processing\n",
    "import seaborn as sns                 # for data visualization\n",
    "import matplotlib.pyplot as plt       # for plotting\n",
    "import datetime\n",
    "\n",
    "# import numpy as np\n",
    "# from sklearn.preprocessing import LabelBinarizer\n",
    "# from sklearn.ensemble import RandomForestClassifier\n",
    "# from sklearn.model_selection import train_test_split, GridSearchCV, StratifiedKFold\n",
    "# from sklearn.metrics import roc_curve, precision_recall_curve, auc, make_scorer, recall_score, accuracy_score, f1_score, precision_score, confusion_matrix\n"
   ]
  },
  {
   "cell_type": "markdown",
   "metadata": {},
   "source": [
    "Some hypotheses I have going in:\n",
    "- could the labor day have factored into the drop in activity?\n",
    "- is there a bug?\n",
    "\n",
    "\n",
    "Some concersns:\n",
    "- What is \"user type?\"\n",
    "- how do you define active user?"
   ]
  },
  {
   "cell_type": "markdown",
   "metadata": {},
   "source": [
    "### Users Data"
   ]
  },
  {
   "cell_type": "code",
   "execution_count": 85,
   "metadata": {},
   "outputs": [
    {
     "data": {
      "text/plain": [
       "(19066, 6)"
      ]
     },
     "execution_count": 85,
     "metadata": {},
     "output_type": "execute_result"
    }
   ],
   "source": [
    "# Loading users data\n",
    "df_users = pd.read_csv('yammer_users.csv')  \n",
    "df_users.head()\n",
    "df_users.shape\n",
    "\n",
    "# user_id: A unique ID per user\n",
    "# created_at: The time the user was created (first signed up)\n",
    "# company_id: The ID of the user's company\n",
    "# language: The chosen language of the user\n",
    "# activated_at: The time the user was activated, if they are active\n",
    "# state: The state of the user (active or pending)\n"
   ]
  },
  {
   "cell_type": "code",
   "execution_count": 3,
   "metadata": {},
   "outputs": [
    {
     "data": {
      "text/plain": [
       "<matplotlib.axes._subplots.AxesSubplot at 0x7f9574e14898>"
      ]
     },
     "execution_count": 3,
     "metadata": {},
     "output_type": "execute_result"
    },
    {
     "data": {
      "image/png": "[encoded data removed]",
      "text/plain": [
       "<Figure size 432x288 with 1 Axes>"
      ]
     },
     "metadata": {
      "needs_background": "light"
     },
     "output_type": "display_data"
    },
    {
     "data": {
      "image/png": "[encoded data removed]",
      "text/plain": [
       "<Figure size 720x360 with 1 Axes>"
      ]
     },
     "metadata": {
      "needs_background": "light"
     },
     "output_type": "display_data"
    },
    {
     "data": {
      "image/png": "[encoded data removed]",
      "text/plain": [
       "<Figure size 720x360 with 1 Axes>"
      ]
     },
     "metadata": {
      "needs_background": "light"
     },
     "output_type": "display_data"
    }
   ],
   "source": [
    "# Plotting distributions\n",
    "df_users['state'].value_counts()\n",
    "sns.countplot(df_users['state'], palette=\"Set1\", label=\"Count\")\n",
    "\n",
    "lang_all = df_users['language'].value_counts()\n",
    "plt.figure(figsize=(10,5))\n",
    "sns.countplot(df_users['language'],order=lang_all.index, label=\"Count\")\n",
    "\n",
    "# df_users['company_id'].value_counts()  ## Interestingly, there are some companies that have just one user\n",
    "# plt.figure(figsize=(10,5))\n",
    "# sns.countplot(df_users['company_id'],label=\"Count\")\n",
    "\n",
    "\n",
    "## Subsetting only active users\n",
    "df_users_active = df_users.loc[df_users['state'] == 'active']\n",
    "lang_active = df_users_active['language'].value_counts()\n",
    "plt.figure(figsize=(10,5))\n",
    "sns.countplot(df_users_active['language'], order=lang_active.index, palette=\"Set1\", label=\"Count\")\n",
    "\n",
    "# df_users_active['company_id'].value_counts()\n",
    "# plt.figure(figsize=(10,5))\n",
    "# sns.countplot(df_users_active['company_id'],label=\"Count\")\n"
   ]
  },
  {
   "cell_type": "markdown",
   "metadata": {},
   "source": [
    "### Events Data"
   ]
  },
  {
   "cell_type": "code",
   "execution_count": 84,
   "metadata": {},
   "outputs": [
    {
     "data": {
      "text/plain": [
       "47"
      ]
     },
     "execution_count": 84,
     "metadata": {},
     "output_type": "execute_result"
    }
   ],
   "source": [
    "# Loading events data\n",
    "df_events = pd.read_csv('yammer_events.csv')\n",
    "df_events.head()\n",
    "\n",
    "len(df_events['location'].unique())\n",
    "# user_id: The ID of the user logging the event. \n",
    "# occurred_at: The time the event occurred.\n",
    "# event_type: The general event type. There are two values in this dataset: \"signup_flow\" and \"engagement\"\n",
    "# event_name: The specific action the user took.\n",
    "# location: The country from which the event was logged (collected through IP address).\n",
    "# device: The type of device used to log the event."
   ]
  },
  {
   "cell_type": "code",
   "execution_count": 5,
   "metadata": {},
   "outputs": [
    {
     "name": "stdout",
     "output_type": "stream",
     "text": [
      "Events from: 2014-05-01 00:54:09   to   2014-08-31 23:03:39\n"
     ]
    }
   ],
   "source": [
    "# Determine period of events\n",
    "events_from = min(df_events['occurred_at'])\n",
    "events_to = max(df_events['occurred_at'])\n",
    "print('Events from:', events_from, '  to  ', events_to)\n",
    "\n",
    "# Event period is 4 months: May to August.\n"
   ]
  },
  {
   "cell_type": "code",
   "execution_count": 22,
   "metadata": {},
   "outputs": [
    {
     "data": {
      "text/plain": [
       "<matplotlib.axes._subplots.AxesSubplot at 0x7f95742db278>"
      ]
     },
     "execution_count": 22,
     "metadata": {},
     "output_type": "execute_result"
    },
    {
     "data": {
      "image/png": "[encoded data removed]",
      "text/plain": [
       "<Figure size 432x288 with 1 Axes>"
      ]
     },
     "metadata": {
      "needs_background": "light"
     },
     "output_type": "display_data"
    },
    {
     "data": {
      "image/png": "[encoded data removed]",
      "text/plain": [
       "<Figure size 720x360 with 1 Axes>"
      ]
     },
     "metadata": {
      "needs_background": "light"
     },
     "output_type": "display_data"
    },
    {
     "data": {
      "image/png": "[encoded data removed]",
      "text/plain": [
       "<Figure size 720x360 with 1 Axes>"
      ]
     },
     "metadata": {
      "needs_background": "light"
     },
     "output_type": "display_data"
    },
    {
     "data": {
      "image/png": "[encoded data removed]",
      "text/plain": [
       "<Figure size 1440x360 with 1 Axes>"
      ]
     },
     "metadata": {
      "needs_background": "light"
     },
     "output_type": "display_data"
    },
    {
     "data": {
      "image/png": "[encoded data removed]",
      "text/plain": [
       "<Figure size 360x360 with 1 Axes>"
      ]
     },
     "metadata": {
      "needs_background": "light"
     },
     "output_type": "display_data"
    }
   ],
   "source": [
    "# Plotting distributions\n",
    "df_events['event_type'].value_counts()\n",
    "sns.countplot(df_events['event_type'], label=\"Count\")\n",
    "\n",
    "event_name = df_events['event_name'].value_counts()\n",
    "plt.figure(figsize=(10,5))\n",
    "sns.countplot(df_events['event_name'], order= event_name.index, label=\"Count\")\n",
    "plt.xticks(rotation=90)\n",
    "\n",
    "engage = df_events.loc[df_events['event_type'] == 'engagement']\n",
    "event_name_eng = engage['event_name'].value_counts()\n",
    "plt.figure(figsize=(10,5))\n",
    "sns.countplot(engage['event_name'], order= event_name_eng.index, label=\"Count\")\n",
    "plt.xticks(rotation=90)\n",
    "\n",
    "\n",
    "location = df_events['location'].value_counts()\n",
    "plt.figure(figsize=(20,5))\n",
    "sns.countplot(df_events['location'], order= location.index, label=\"Count\")\n",
    "plt.xticks(rotation=90)\n",
    "\n",
    "# df_events['device'].value_counts()\n",
    "# plt.figure(figsize=(20,4))\n",
    "# sns.countplot(df_events['device'], label=\"Count\")\n",
    "\n",
    "user_type = df_events['user_type'].value_counts()\n",
    "plt.figure(figsize=(5,5))\n",
    "sns.countplot(df_events['user_type'], order = user_type.index, label=\"Count\")\n",
    "#what is user type?\n"
   ]
  },
  {
   "cell_type": "code",
   "execution_count": 27,
   "metadata": {},
   "outputs": [
    {
     "name": "stdout",
     "output_type": "stream",
     "text": [
      "home_page                 94065\n",
      "like_message              59248\n",
      "view_inbox                55936\n",
      "login                     38610\n",
      "send_message              33105\n",
      "search_autocomplete       17820\n",
      "search_run                13019\n",
      "create_user                7298\n",
      "enter_email                4407\n",
      "enter_info                 3872\n",
      "complete_signup            3680\n",
      "search_click_result_2      1499\n",
      "search_click_result_1      1413\n",
      "search_click_result_4      1264\n",
      "search_click_result_3      1134\n",
      "search_click_result_5       968\n",
      "search_click_result_6       805\n",
      "search_click_result_9       784\n",
      "search_click_result_7       709\n",
      "search_click_result_8       690\n",
      "search_click_result_10      506\n",
      "Name: event_name, dtype: int64\n",
      "home_page                 94065\n",
      "like_message              59248\n",
      "view_inbox                55936\n",
      "login                     38610\n",
      "send_message              33105\n",
      "search_autocomplete       17820\n",
      "search_run                13019\n",
      "search_click_result_2      1499\n",
      "search_click_result_1      1413\n",
      "search_click_result_4      1264\n",
      "search_click_result_3      1134\n",
      "search_click_result_5       968\n",
      "search_click_result_6       805\n",
      "search_click_result_9       784\n",
      "search_click_result_7       709\n",
      "search_click_result_8       690\n",
      "search_click_result_10      506\n",
      "Name: event_name, dtype: int64\n"
     ]
    }
   ],
   "source": [
    "event_name = df_events['event_name'].value_counts()\n",
    "print(event_name)\n",
    "\n",
    "engage = df_events.loc[df_events['event_type'] == 'engagement']\n",
    "event_name_eng = engage['event_name'].value_counts()\n",
    "print(event_name_eng)\n",
    "\n"
   ]
  },
  {
   "cell_type": "code",
   "execution_count": 37,
   "metadata": {},
   "outputs": [
    {
     "data": {
      "text/html": [
       "<div>\n",
       "<style scoped>\n",
       "    .dataframe tbody tr th:only-of-type {\n",
       "        vertical-align: middle;\n",
       "    }\n",
       "\n",
       "    .dataframe tbody tr th {\n",
       "        vertical-align: top;\n",
       "    }\n",
       "\n",
       "    .dataframe thead th {\n",
       "        text-align: right;\n",
       "    }\n",
       "</style>\n",
       "<table border=\"1\" class=\"dataframe\">\n",
       "  <thead>\n",
       "    <tr style=\"text-align: right;\">\n",
       "      <th></th>\n",
       "      <th>user_id</th>\n",
       "      <th>occurred_at</th>\n",
       "      <th>event_type</th>\n",
       "      <th>event_name</th>\n",
       "      <th>location</th>\n",
       "      <th>device</th>\n",
       "      <th>user_type</th>\n",
       "    </tr>\n",
       "  </thead>\n",
       "  <tbody>\n",
       "    <tr>\n",
       "      <th>391</th>\n",
       "      <td>11768.0</td>\n",
       "      <td>2014-05-01 08:01:36</td>\n",
       "      <td>signup_flow</td>\n",
       "      <td>create_user</td>\n",
       "      <td>France</td>\n",
       "      <td>macbook pro</td>\n",
       "      <td>NaN</td>\n",
       "    </tr>\n",
       "    <tr>\n",
       "      <th>392</th>\n",
       "      <td>11768.0</td>\n",
       "      <td>2014-05-01 08:02:06</td>\n",
       "      <td>signup_flow</td>\n",
       "      <td>enter_email</td>\n",
       "      <td>France</td>\n",
       "      <td>macbook pro</td>\n",
       "      <td>NaN</td>\n",
       "    </tr>\n",
       "    <tr>\n",
       "      <th>393</th>\n",
       "      <td>11768.0</td>\n",
       "      <td>2014-05-01 08:02:39</td>\n",
       "      <td>signup_flow</td>\n",
       "      <td>enter_info</td>\n",
       "      <td>France</td>\n",
       "      <td>macbook pro</td>\n",
       "      <td>NaN</td>\n",
       "    </tr>\n",
       "    <tr>\n",
       "      <th>394</th>\n",
       "      <td>11768.0</td>\n",
       "      <td>2014-05-01 08:03:12</td>\n",
       "      <td>signup_flow</td>\n",
       "      <td>complete_signup</td>\n",
       "      <td>France</td>\n",
       "      <td>macbook pro</td>\n",
       "      <td>3.0</td>\n",
       "    </tr>\n",
       "    <tr>\n",
       "      <th>401</th>\n",
       "      <td>11769.0</td>\n",
       "      <td>2014-05-01 02:37:43</td>\n",
       "      <td>signup_flow</td>\n",
       "      <td>create_user</td>\n",
       "      <td>United Kingdom</td>\n",
       "      <td>lenovo thinkpad</td>\n",
       "      <td>NaN</td>\n",
       "    </tr>\n",
       "  </tbody>\n",
       "</table>\n",
       "</div>"
      ],
      "text/plain": [
       "     user_id          occurred_at   event_type       event_name  \\\n",
       "391  11768.0  2014-05-01 08:01:36  signup_flow      create_user   \n",
       "392  11768.0  2014-05-01 08:02:06  signup_flow      enter_email   \n",
       "393  11768.0  2014-05-01 08:02:39  signup_flow       enter_info   \n",
       "394  11768.0  2014-05-01 08:03:12  signup_flow  complete_signup   \n",
       "401  11769.0  2014-05-01 02:37:43  signup_flow      create_user   \n",
       "\n",
       "           location           device  user_type  \n",
       "391          France      macbook pro        NaN  \n",
       "392          France      macbook pro        NaN  \n",
       "393          France      macbook pro        NaN  \n",
       "394          France      macbook pro        3.0  \n",
       "401  United Kingdom  lenovo thinkpad        NaN  "
      ]
     },
     "execution_count": 37,
     "metadata": {},
     "output_type": "execute_result"
    }
   ],
   "source": [
    "## Checking out the signup flow\n",
    "df_events['event_type'].value_counts()\n",
    "df_events.loc[df_events['event_type'] == 'signup_flow'].head()\n",
    "\n",
    "# sns.countplot(df_events['event_type'], label=\"Count\")"
   ]
  },
  {
   "cell_type": "code",
   "execution_count": 36,
   "metadata": {},
   "outputs": [
    {
     "name": "stderr",
     "output_type": "stream",
     "text": [
      "/home/priscilla/anaconda3/lib/python3.6/site-packages/ipykernel_launcher.py:2: SettingWithCopyWarning: \n",
      "A value is trying to be set on a copy of a slice from a DataFrame.\n",
      "Try using .loc[row_indexer,col_indexer] = value instead\n",
      "\n",
      "See the caveats in the documentation: http://pandas.pydata.org/pandas-docs/stable/indexing.html#indexing-view-versus-copy\n",
      "  \n",
      "/home/priscilla/anaconda3/lib/python3.6/site-packages/ipykernel_launcher.py:3: SettingWithCopyWarning: \n",
      "A value is trying to be set on a copy of a slice from a DataFrame.\n",
      "Try using .loc[row_indexer,col_indexer] = value instead\n",
      "\n",
      "See the caveats in the documentation: http://pandas.pydata.org/pandas-docs/stable/indexing.html#indexing-view-versus-copy\n",
      "  This is separate from the ipykernel package so we can avoid doing imports until\n"
     ]
    },
    {
     "data": {
      "text/plain": [
       "(array([ 0,  1,  2,  3,  4,  5,  6,  7,  8,  9, 10, 11, 12, 13, 14, 15, 16]),\n",
       " <a list of 17 Text xticklabel objects>)"
      ]
     },
     "execution_count": 36,
     "metadata": {},
     "output_type": "execute_result"
    },
    {
     "data": {
      "image/png": "[encoded data removed]",
      "text/plain": [
       "<Figure size 720x360 with 1 Axes>"
      ]
     },
     "metadata": {
      "needs_background": "light"
     },
     "output_type": "display_data"
    }
   ],
   "source": [
    "engage = df_events.loc[df_events['event_type'] == 'engagement']\n",
    "engage['occur_date'] = pd.to_datetime(engage.occurred_at)\n",
    "engage['occur_date'] = pd.to_datetime(engage.occur_date.dt.date)\n",
    "engage = engage[['user_id','occur_date','event_name','location', 'device']]\n",
    "engage.tail()\n",
    "# engage.shape     # 321,575\n",
    "\n",
    "engage = engage.drop_duplicates()\n",
    "\n",
    "engage.head()\n",
    "# engage.shape\n",
    "\n",
    "event_name_eng = engage['event_name'].value_counts()\n",
    "plt.figure(figsize=(10,5))\n",
    "sns.countplot(engage['event_name'], order= event_name_eng.index, label=\"Count\")\n",
    "plt.xticks(rotation=90)\n"
   ]
  },
  {
   "cell_type": "markdown",
   "metadata": {},
   "source": [
    "From here, I can say that \"login\" is what is used to determine whether or not somebody is active"
   ]
  },
  {
   "cell_type": "code",
   "execution_count": 78,
   "metadata": {
    "scrolled": true
   },
   "outputs": [
    {
     "data": {
      "text/plain": [
       "<matplotlib.axes._subplots.AxesSubplot at 0x7f955e20cfd0>"
      ]
     },
     "execution_count": 78,
     "metadata": {},
     "output_type": "execute_result"
    },
    {
     "data": {
      "image/png": "[encoded data removed]",
      "text/plain": [
       "<Figure size 432x288 with 1 Axes>"
      ]
     },
     "metadata": {
      "needs_background": "light"
     },
     "output_type": "display_data"
    }
   ],
   "source": [
    "engage_login = df_events.loc[df_events['event_type'] == 'engagement']\n",
    "engage_login = engage_login.loc[engage_login['event_name'] == 'login']\n",
    "\n",
    "engage_cntry = engage_login.loc[engage_login['location'].isin(['United States', 'Japan', 'Germany', \n",
    "                                                               'France', 'United Kingdom', 'Russia',\n",
    "                                                               'Italy', 'Brazil', 'India', 'Canada',\n",
    "                                                               'Mexico', 'Australia', 'Korea'])]\n",
    "\n",
    "\n",
    "engage_login['occur_date'] = pd.to_datetime(engage_login.occurred_at)\n",
    "engage_login['occur_date'] = pd.to_datetime(engage_login.occur_date.dt.date)\n",
    "engage_login = engage[['user_id','occur_date','location', 'device']]\n",
    "engage_login = engage_login.drop_duplicates()\n",
    "engage_login['weekly'] = 1\n",
    "engage_login.head()\n",
    "\n",
    "engage_weekly = engage_login[['occur_date']]\n",
    "engage_weekly.index = engage_weekly['occur_date'] \n",
    "engage_weekly.head()\n",
    "engage_weekly = engage_weekly.resample('W').count()\n",
    "engage_weekly.plot()\n",
    "\n",
    "# plt(engage_weekly)\n",
    "# df_events_time = df_events\n",
    "# df_events_time['occurred_at'] = pd.to_datetime(df_events_time['occurred_at'])\n",
    "# df_events_time['weekly'] = 1\n",
    "# df_events_time.head()\n",
    "\n",
    "# # Group the data by week, and take the count for each week\n",
    "# events_sub = df_events_time[['occurred_at', 'weekly']]\n",
    "# events_sub.index = events_sub['occurred_at'] \n",
    "# events_sub.head()\n",
    "# events_sub.resample('W').count()\n",
    "\n",
    "# Find the unique occurrences of each event."
   ]
  },
  {
   "cell_type": "code",
   "execution_count": 79,
   "metadata": {},
   "outputs": [
    {
     "data": {
      "text/html": [
       "<div>\n",
       "<style scoped>\n",
       "    .dataframe tbody tr th:only-of-type {\n",
       "        vertical-align: middle;\n",
       "    }\n",
       "\n",
       "    .dataframe tbody tr th {\n",
       "        vertical-align: top;\n",
       "    }\n",
       "\n",
       "    .dataframe thead th {\n",
       "        text-align: right;\n",
       "    }\n",
       "</style>\n",
       "<table border=\"1\" class=\"dataframe\">\n",
       "  <thead>\n",
       "    <tr style=\"text-align: right;\">\n",
       "      <th></th>\n",
       "      <th>user_id</th>\n",
       "      <th>occurred_at</th>\n",
       "      <th>event_type</th>\n",
       "      <th>event_name</th>\n",
       "      <th>location</th>\n",
       "      <th>device</th>\n",
       "      <th>user_type</th>\n",
       "    </tr>\n",
       "  </thead>\n",
       "  <tbody>\n",
       "    <tr>\n",
       "      <th>0</th>\n",
       "      <td>10522.0</td>\n",
       "      <td>2014-05-02 11:02:39</td>\n",
       "      <td>engagement</td>\n",
       "      <td>login</td>\n",
       "      <td>Japan</td>\n",
       "      <td>dell inspiron notebook</td>\n",
       "      <td>3.0</td>\n",
       "    </tr>\n",
       "    <tr>\n",
       "      <th>23</th>\n",
       "      <td>11020.0</td>\n",
       "      <td>2014-05-08 09:15:35</td>\n",
       "      <td>engagement</td>\n",
       "      <td>login</td>\n",
       "      <td>Japan</td>\n",
       "      <td>macbook air</td>\n",
       "      <td>2.0</td>\n",
       "    </tr>\n",
       "    <tr>\n",
       "      <th>31</th>\n",
       "      <td>11037.0</td>\n",
       "      <td>2014-05-01 07:25:08</td>\n",
       "      <td>engagement</td>\n",
       "      <td>login</td>\n",
       "      <td>United Kingdom</td>\n",
       "      <td>iphone 4s</td>\n",
       "      <td>1.0</td>\n",
       "    </tr>\n",
       "    <tr>\n",
       "      <th>40</th>\n",
       "      <td>11040.0</td>\n",
       "      <td>2014-05-13 07:23:54</td>\n",
       "      <td>engagement</td>\n",
       "      <td>login</td>\n",
       "      <td>Japan</td>\n",
       "      <td>iphone 5s</td>\n",
       "      <td>2.0</td>\n",
       "    </tr>\n",
       "    <tr>\n",
       "      <th>50</th>\n",
       "      <td>11133.0</td>\n",
       "      <td>2014-05-08 11:13:33</td>\n",
       "      <td>engagement</td>\n",
       "      <td>login</td>\n",
       "      <td>India</td>\n",
       "      <td>macbook pro</td>\n",
       "      <td>2.0</td>\n",
       "    </tr>\n",
       "  </tbody>\n",
       "</table>\n",
       "</div>"
      ],
      "text/plain": [
       "    user_id          occurred_at  event_type event_name        location  \\\n",
       "0   10522.0  2014-05-02 11:02:39  engagement      login           Japan   \n",
       "23  11020.0  2014-05-08 09:15:35  engagement      login           Japan   \n",
       "31  11037.0  2014-05-01 07:25:08  engagement      login  United Kingdom   \n",
       "40  11040.0  2014-05-13 07:23:54  engagement      login           Japan   \n",
       "50  11133.0  2014-05-08 11:13:33  engagement      login           India   \n",
       "\n",
       "                    device  user_type  \n",
       "0   dell inspiron notebook        3.0  \n",
       "23             macbook air        2.0  \n",
       "31               iphone 4s        1.0  \n",
       "40               iphone 5s        2.0  \n",
       "50             macbook pro        2.0  "
      ]
     },
     "execution_count": 79,
     "metadata": {},
     "output_type": "execute_result"
    }
   ],
   "source": [
    "engage_cntry.head()"
   ]
  },
  {
   "cell_type": "code",
   "execution_count": 95,
   "metadata": {},
   "outputs": [
    {
     "data": {
      "text/plain": [
       "(array([0, 1, 2, 3]), <a list of 4 Text xticklabel objects>)"
      ]
     },
     "execution_count": 95,
     "metadata": {},
     "output_type": "execute_result"
    },
    {
     "data": {
      "image/png": "[encoded data removed]",
      "text/plain": [
       "<Figure size 432x288 with 1 Axes>"
      ]
     },
     "metadata": {
      "needs_background": "light"
     },
     "output_type": "display_data"
    }
   ],
   "source": [
    "# Plotting distributions\n",
    "df_emails['action'].value_counts()\n",
    "sns.countplot(df_emails['action'], label=\"Count\")\n",
    "plt.xticks(rotation=20)"
   ]
  },
  {
   "cell_type": "code",
   "execution_count": 60,
   "metadata": {},
   "outputs": [
    {
     "name": "stdout",
     "output_type": "stream",
     "text": [
      "Object `plot` not found.\n"
     ]
    }
   ],
   "source": [
    ".plot?"
   ]
  },
  {
   "cell_type": "code",
   "execution_count": null,
   "metadata": {},
   "outputs": [],
   "source": [
    ".plot"
   ]
  },
  {
   "cell_type": "code",
   "execution_count": null,
   "metadata": {},
   "outputs": [],
   "source": []
  },
  {
   "cell_type": "code",
   "execution_count": 40,
   "metadata": {},
   "outputs": [
    {
     "data": {
      "text/html": [
       "<div>\n",
       "<style scoped>\n",
       "    .dataframe tbody tr th:only-of-type {\n",
       "        vertical-align: middle;\n",
       "    }\n",
       "\n",
       "    .dataframe tbody tr th {\n",
       "        vertical-align: top;\n",
       "    }\n",
       "\n",
       "    .dataframe thead th {\n",
       "        text-align: right;\n",
       "    }\n",
       "</style>\n",
       "<table border=\"1\" class=\"dataframe\">\n",
       "  <thead>\n",
       "    <tr style=\"text-align: right;\">\n",
       "      <th></th>\n",
       "      <th>period_id</th>\n",
       "      <th>time_id</th>\n",
       "      <th>pst_start</th>\n",
       "      <th>pst_end</th>\n",
       "      <th>utc_start</th>\n",
       "      <th>utc_end</th>\n",
       "    </tr>\n",
       "  </thead>\n",
       "  <tbody>\n",
       "    <tr>\n",
       "      <th>0</th>\n",
       "      <td>1.0</td>\n",
       "      <td>2013-01-01 00:00:00</td>\n",
       "      <td>2013-01-01 00:00:00</td>\n",
       "      <td>2013-01-02 00:00:00</td>\n",
       "      <td>2013-01-01 08:00:00</td>\n",
       "      <td>2013-01-02 08:00:00</td>\n",
       "    </tr>\n",
       "    <tr>\n",
       "      <th>1</th>\n",
       "      <td>1.0</td>\n",
       "      <td>2013-01-02 00:00:00</td>\n",
       "      <td>2013-01-02 00:00:00</td>\n",
       "      <td>2013-01-03 00:00:00</td>\n",
       "      <td>2013-01-02 08:00:00</td>\n",
       "      <td>2013-01-03 08:00:00</td>\n",
       "    </tr>\n",
       "    <tr>\n",
       "      <th>2</th>\n",
       "      <td>1.0</td>\n",
       "      <td>2013-01-03 00:00:00</td>\n",
       "      <td>2013-01-03 00:00:00</td>\n",
       "      <td>2013-01-04 00:00:00</td>\n",
       "      <td>2013-01-03 08:00:00</td>\n",
       "      <td>2013-01-04 08:00:00</td>\n",
       "    </tr>\n",
       "    <tr>\n",
       "      <th>3</th>\n",
       "      <td>1.0</td>\n",
       "      <td>2013-01-04 00:00:00</td>\n",
       "      <td>2013-01-04 00:00:00</td>\n",
       "      <td>2013-01-05 00:00:00</td>\n",
       "      <td>2013-01-04 08:00:00</td>\n",
       "      <td>2013-01-05 08:00:00</td>\n",
       "    </tr>\n",
       "    <tr>\n",
       "      <th>4</th>\n",
       "      <td>1.0</td>\n",
       "      <td>2013-01-05 00:00:00</td>\n",
       "      <td>2013-01-05 00:00:00</td>\n",
       "      <td>2013-01-06 00:00:00</td>\n",
       "      <td>2013-01-05 08:00:00</td>\n",
       "      <td>2013-01-06 08:00:00</td>\n",
       "    </tr>\n",
       "  </tbody>\n",
       "</table>\n",
       "</div>"
      ],
      "text/plain": [
       "   period_id              time_id            pst_start              pst_end  \\\n",
       "0        1.0  2013-01-01 00:00:00  2013-01-01 00:00:00  2013-01-02 00:00:00   \n",
       "1        1.0  2013-01-02 00:00:00  2013-01-02 00:00:00  2013-01-03 00:00:00   \n",
       "2        1.0  2013-01-03 00:00:00  2013-01-03 00:00:00  2013-01-04 00:00:00   \n",
       "3        1.0  2013-01-04 00:00:00  2013-01-04 00:00:00  2013-01-05 00:00:00   \n",
       "4        1.0  2013-01-05 00:00:00  2013-01-05 00:00:00  2013-01-06 00:00:00   \n",
       "\n",
       "             utc_start              utc_end  \n",
       "0  2013-01-01 08:00:00  2013-01-02 08:00:00  \n",
       "1  2013-01-02 08:00:00  2013-01-03 08:00:00  \n",
       "2  2013-01-03 08:00:00  2013-01-04 08:00:00  \n",
       "3  2013-01-04 08:00:00  2013-01-05 08:00:00  \n",
       "4  2013-01-05 08:00:00  2013-01-06 08:00:00  "
      ]
     },
     "execution_count": 40,
     "metadata": {},
     "output_type": "execute_result"
    }
   ],
   "source": [
    "# Loading rollup data \n",
    "df_rollup = pd.read_csv('dimension_rollup_periods.csv')\n",
    "df_rollup.head()\n",
    "\n",
    "\n",
    "# period_id: This identifies the type of rollup period.\n",
    "# time_id: This is the identifier for any given data point — it's what you would put on a chart axis.\n",
    "# pst_start: The start time of the period in PST.\n",
    "# pst_end: The end time of the period in PST. \n",
    "# utc_start: The same as pst_start, but in UTC time.\n",
    "# pst_start: The same as pst_end, but in UTC time.\n"
   ]
  },
  {
   "cell_type": "code",
   "execution_count": 32,
   "metadata": {},
   "outputs": [
    {
     "name": "stdout",
     "output_type": "stream",
     "text": [
      "Dimension of users on Yammer: (19066, 6)\n",
      "Dimension of events on Yammer: (340832, 7)\n",
      "Dimension of emails on Yammer: (90389, 4)\n",
      "Dimension of rollup on Yammer: (56002, 6)\n"
     ]
    }
   ],
   "source": [
    "print('Dimension of users on Yammer:', df_users.shape)\n",
    "print('Dimension of events on Yammer:', df_events.shape)\n",
    "print('Dimension of emails on Yammer:', df_emails.shape)\n",
    "print('Dimension of rollup on Yammer:', df_rollup.shape)"
   ]
  },
  {
   "cell_type": "markdown",
   "metadata": {},
   "source": [
    "\n",
    "I noticed that the data has no heading, so I am going to assign the appropriate headings now.\n",
    "\n",
    "Attribute Information:\n",
    "1. Sample code number: id number \n",
    "2. Clump Thickness \n",
    "3. Uniformity of Cell Size\n",
    "4. Uniformity of Cell Shape\n",
    "5. Marginal Adhesion\n",
    "6. Single Epithelial Cell Size\n",
    "7. Bare Nuclei\n",
    "8. Bland Chromatin \n",
    "9. Normal Nucleoli \n",
    "10. Mitoses\n",
    "11. Class\n",
    "\n",
    "The 11th attribute, \"Class\"is the label data, where an observation is classified as 2 for benign, 4 for malignant. Attributes 2 to 10 are features which gives measurements of the biopsied cell (they all range from 1-10). This is a classification modeling problem."
   ]
  },
  {
   "cell_type": "code",
   "execution_count": 3,
   "metadata": {},
   "outputs": [],
   "source": [
    "# Assigning column names\n",
    "df.columns = ['ID', 'clump_thick', 'cell_size', 'cell_shape',\n",
    "               'margin_adhesion', 'cell_size_epi', 'bare_nuclei',\n",
    "               'bland_chromatin', 'normal_nucleoli', 'mitoses', 'Class']"
   ]
  },
  {
   "cell_type": "markdown",
   "metadata": {},
   "source": [
    "The label, \"Class\", is coded as 2 for benign, and 4 for malignant. This seems arbitrary to me, so I am going to make it much more intuitive as:\n",
    "- 0: benign\n",
    "- 1: malignant"
   ]
  },
  {
   "cell_type": "code",
   "execution_count": 4,
   "metadata": {},
   "outputs": [
    {
     "data": {
      "text/plain": [
       "0    458\n",
       "1    241\n",
       "Name: Class, dtype: int64"
      ]
     },
     "execution_count": 4,
     "metadata": {},
     "output_type": "execute_result"
    }
   ],
   "source": [
    "# Converting beinign classification to \"0\", and malignant to \"1\".\n",
    "df['Class'] = df['Class'].map({2:0, 4:1})\n",
    "df['Class'].value_counts()"
   ]
  },
  {
   "cell_type": "markdown",
   "metadata": {},
   "source": [
    "\n",
    "\n",
    "\n",
    "\n",
    "### Data Exploration\n",
    "\n",
    "Now, I am going to check out data structure, as well as investiage if there are any missing data"
   ]
  },
  {
   "cell_type": "code",
   "execution_count": 5,
   "metadata": {},
   "outputs": [
    {
     "data": {
      "text/html": [
       "<div>\n",
       "<style scoped>\n",
       "    .dataframe tbody tr th:only-of-type {\n",
       "        vertical-align: middle;\n",
       "    }\n",
       "\n",
       "    .dataframe tbody tr th {\n",
       "        vertical-align: top;\n",
       "    }\n",
       "\n",
       "    .dataframe thead th {\n",
       "        text-align: right;\n",
       "    }\n",
       "</style>\n",
       "<table border=\"1\" class=\"dataframe\">\n",
       "  <thead>\n",
       "    <tr style=\"text-align: right;\">\n",
       "      <th></th>\n",
       "      <th>ID</th>\n",
       "      <th>clump_thick</th>\n",
       "      <th>cell_size</th>\n",
       "      <th>cell_shape</th>\n",
       "      <th>margin_adhesion</th>\n",
       "      <th>cell_size_epi</th>\n",
       "      <th>bare_nuclei</th>\n",
       "      <th>bland_chromatin</th>\n",
       "      <th>normal_nucleoli</th>\n",
       "      <th>mitoses</th>\n",
       "      <th>Class</th>\n",
       "    </tr>\n",
       "  </thead>\n",
       "  <tbody>\n",
       "    <tr>\n",
       "      <th>0</th>\n",
       "      <td>1000025</td>\n",
       "      <td>5</td>\n",
       "      <td>1</td>\n",
       "      <td>1</td>\n",
       "      <td>1</td>\n",
       "      <td>2</td>\n",
       "      <td>1</td>\n",
       "      <td>3</td>\n",
       "      <td>1</td>\n",
       "      <td>1</td>\n",
       "      <td>0</td>\n",
       "    </tr>\n",
       "    <tr>\n",
       "      <th>1</th>\n",
       "      <td>1002945</td>\n",
       "      <td>5</td>\n",
       "      <td>4</td>\n",
       "      <td>4</td>\n",
       "      <td>5</td>\n",
       "      <td>7</td>\n",
       "      <td>10</td>\n",
       "      <td>3</td>\n",
       "      <td>2</td>\n",
       "      <td>1</td>\n",
       "      <td>0</td>\n",
       "    </tr>\n",
       "    <tr>\n",
       "      <th>2</th>\n",
       "      <td>1015425</td>\n",
       "      <td>3</td>\n",
       "      <td>1</td>\n",
       "      <td>1</td>\n",
       "      <td>1</td>\n",
       "      <td>2</td>\n",
       "      <td>2</td>\n",
       "      <td>3</td>\n",
       "      <td>1</td>\n",
       "      <td>1</td>\n",
       "      <td>0</td>\n",
       "    </tr>\n",
       "    <tr>\n",
       "      <th>3</th>\n",
       "      <td>1016277</td>\n",
       "      <td>6</td>\n",
       "      <td>8</td>\n",
       "      <td>8</td>\n",
       "      <td>1</td>\n",
       "      <td>3</td>\n",
       "      <td>4</td>\n",
       "      <td>3</td>\n",
       "      <td>7</td>\n",
       "      <td>1</td>\n",
       "      <td>0</td>\n",
       "    </tr>\n",
       "    <tr>\n",
       "      <th>4</th>\n",
       "      <td>1017023</td>\n",
       "      <td>4</td>\n",
       "      <td>1</td>\n",
       "      <td>1</td>\n",
       "      <td>3</td>\n",
       "      <td>2</td>\n",
       "      <td>1</td>\n",
       "      <td>3</td>\n",
       "      <td>1</td>\n",
       "      <td>1</td>\n",
       "      <td>0</td>\n",
       "    </tr>\n",
       "  </tbody>\n",
       "</table>\n",
       "</div>"
      ],
      "text/plain": [
       "        ID  clump_thick  cell_size  cell_shape  margin_adhesion  \\\n",
       "0  1000025            5          1           1                1   \n",
       "1  1002945            5          4           4                5   \n",
       "2  1015425            3          1           1                1   \n",
       "3  1016277            6          8           8                1   \n",
       "4  1017023            4          1           1                3   \n",
       "\n",
       "   cell_size_epi bare_nuclei  bland_chromatin  normal_nucleoli  mitoses  Class  \n",
       "0              2           1                3                1        1      0  \n",
       "1              7          10                3                2        1      0  \n",
       "2              2           2                3                1        1      0  \n",
       "3              3           4                3                7        1      0  \n",
       "4              2           1                3                1        1      0  "
      ]
     },
     "execution_count": 5,
     "metadata": {},
     "output_type": "execute_result"
    }
   ],
   "source": [
    "#checking a snapshot of the data\n",
    "df.head()"
   ]
  },
  {
   "cell_type": "code",
   "execution_count": 6,
   "metadata": {},
   "outputs": [
    {
     "data": {
      "text/plain": [
       "ID                  int64\n",
       "clump_thick         int64\n",
       "cell_size           int64\n",
       "cell_shape          int64\n",
       "margin_adhesion     int64\n",
       "cell_size_epi       int64\n",
       "bare_nuclei        object\n",
       "bland_chromatin     int64\n",
       "normal_nucleoli     int64\n",
       "mitoses             int64\n",
       "Class               int64\n",
       "dtype: object"
      ]
     },
     "execution_count": 6,
     "metadata": {},
     "output_type": "execute_result"
    }
   ],
   "source": [
    "# checking data structure\n",
    "df.dtypes"
   ]
  },
  {
   "cell_type": "markdown",
   "metadata": {},
   "source": [
    "It says here that the \"bare nuclei\" is an object. From the snapshot above, I would have expected it to also been an integer, so I am going to investigate what is going on."
   ]
  },
  {
   "cell_type": "code",
   "execution_count": 7,
   "metadata": {},
   "outputs": [
    {
     "data": {
      "text/plain": [
       "1     402\n",
       "10    132\n",
       "2      30\n",
       "5      30\n",
       "3      28\n",
       "8      21\n",
       "4      19\n",
       "?      16\n",
       "9       9\n",
       "7       8\n",
       "6       4\n",
       "Name: bare_nuclei, dtype: int64"
      ]
     },
     "execution_count": 7,
     "metadata": {},
     "output_type": "execute_result"
    }
   ],
   "source": [
    "# Checking a summary of the \"bare nuclei\" feature\n",
    "df['bare_nuclei'].value_counts()"
   ]
  },
  {
   "cell_type": "markdown",
   "metadata": {},
   "source": [
    "Turns out that there are 16 instances of missing data, which are represented as \"?\". I am going to delete those observations and then convert the column to an integer."
   ]
  },
  {
   "cell_type": "code",
   "execution_count": 8,
   "metadata": {},
   "outputs": [
    {
     "name": "stderr",
     "output_type": "stream",
     "text": [
      "/home/priscilla/anaconda3/lib/python3.6/site-packages/pandas/core/ops.py:1649: FutureWarning: elementwise comparison failed; returning scalar instead, but in the future will perform elementwise comparison\n",
      "  result = method(y)\n"
     ]
    },
    {
     "data": {
      "text/plain": [
       "(683, 11)"
      ]
     },
     "execution_count": 8,
     "metadata": {},
     "output_type": "execute_result"
    }
   ],
   "source": [
    "df = df[~(df == '?').any(axis=1)]     # delete \"?\"\n",
    "df[\"bare_nuclei\"] = pd.to_numeric(df[\"bare_nuclei\"])  # convert to integer\n",
    "df.shape            #there are now 683 observations"
   ]
  },
  {
   "cell_type": "markdown",
   "metadata": {},
   "source": [
    "I will like to know now, if there are any other missing data"
   ]
  },
  {
   "cell_type": "code",
   "execution_count": 9,
   "metadata": {},
   "outputs": [
    {
     "name": "stdout",
     "output_type": "stream",
     "text": [
      "<class 'pandas.core.frame.DataFrame'>\n",
      "Int64Index: 683 entries, 0 to 698\n",
      "Data columns (total 11 columns):\n",
      "ID                 683 non-null int64\n",
      "clump_thick        683 non-null int64\n",
      "cell_size          683 non-null int64\n",
      "cell_shape         683 non-null int64\n",
      "margin_adhesion    683 non-null int64\n",
      "cell_size_epi      683 non-null int64\n",
      "bare_nuclei        683 non-null int64\n",
      "bland_chromatin    683 non-null int64\n",
      "normal_nucleoli    683 non-null int64\n",
      "mitoses            683 non-null int64\n",
      "Class              683 non-null int64\n",
      "dtypes: int64(11)\n",
      "memory usage: 64.0 KB\n"
     ]
    },
    {
     "data": {
      "text/plain": [
       "<matplotlib.axes._subplots.AxesSubplot at 0x7f17e9d184a8>"
      ]
     },
     "execution_count": 9,
     "metadata": {},
     "output_type": "execute_result"
    },
    {
     "data": {
      "image/png": "[encoded data removed]",
      "text/plain": [
       "<Figure size 432x288 with 1 Axes>"
      ]
     },
     "metadata": {
      "needs_background": "light"
     },
     "output_type": "display_data"
    }
   ],
   "source": [
    "df.info()  # no missing data\n",
    "sns.heatmap(df.isnull(), cbar=False)"
   ]
  },
  {
   "cell_type": "code",
   "execution_count": 10,
   "metadata": {},
   "outputs": [
    {
     "data": {
      "text/html": [
       "<div>\n",
       "<style scoped>\n",
       "    .dataframe tbody tr th:only-of-type {\n",
       "        vertical-align: middle;\n",
       "    }\n",
       "\n",
       "    .dataframe tbody tr th {\n",
       "        vertical-align: top;\n",
       "    }\n",
       "\n",
       "    .dataframe thead th {\n",
       "        text-align: right;\n",
       "    }\n",
       "</style>\n",
       "<table border=\"1\" class=\"dataframe\">\n",
       "  <thead>\n",
       "    <tr style=\"text-align: right;\">\n",
       "      <th></th>\n",
       "      <th>clump_thick</th>\n",
       "      <th>cell_size</th>\n",
       "      <th>cell_shape</th>\n",
       "      <th>margin_adhesion</th>\n",
       "      <th>cell_size_epi</th>\n",
       "      <th>bare_nuclei</th>\n",
       "      <th>bland_chromatin</th>\n",
       "      <th>normal_nucleoli</th>\n",
       "      <th>mitoses</th>\n",
       "    </tr>\n",
       "  </thead>\n",
       "  <tbody>\n",
       "    <tr>\n",
       "      <th>count</th>\n",
       "      <td>683.000000</td>\n",
       "      <td>683.000000</td>\n",
       "      <td>683.000000</td>\n",
       "      <td>683.000000</td>\n",
       "      <td>683.000000</td>\n",
       "      <td>683.000000</td>\n",
       "      <td>683.000000</td>\n",
       "      <td>683.000000</td>\n",
       "      <td>683.000000</td>\n",
       "    </tr>\n",
       "    <tr>\n",
       "      <th>mean</th>\n",
       "      <td>4.442167</td>\n",
       "      <td>3.150805</td>\n",
       "      <td>3.215227</td>\n",
       "      <td>2.830161</td>\n",
       "      <td>3.234261</td>\n",
       "      <td>3.544656</td>\n",
       "      <td>3.445095</td>\n",
       "      <td>2.869693</td>\n",
       "      <td>1.603221</td>\n",
       "    </tr>\n",
       "    <tr>\n",
       "      <th>std</th>\n",
       "      <td>2.820761</td>\n",
       "      <td>3.065145</td>\n",
       "      <td>2.988581</td>\n",
       "      <td>2.864562</td>\n",
       "      <td>2.223085</td>\n",
       "      <td>3.643857</td>\n",
       "      <td>2.449697</td>\n",
       "      <td>3.052666</td>\n",
       "      <td>1.732674</td>\n",
       "    </tr>\n",
       "    <tr>\n",
       "      <th>min</th>\n",
       "      <td>1.000000</td>\n",
       "      <td>1.000000</td>\n",
       "      <td>1.000000</td>\n",
       "      <td>1.000000</td>\n",
       "      <td>1.000000</td>\n",
       "      <td>1.000000</td>\n",
       "      <td>1.000000</td>\n",
       "      <td>1.000000</td>\n",
       "      <td>1.000000</td>\n",
       "    </tr>\n",
       "    <tr>\n",
       "      <th>25%</th>\n",
       "      <td>2.000000</td>\n",
       "      <td>1.000000</td>\n",
       "      <td>1.000000</td>\n",
       "      <td>1.000000</td>\n",
       "      <td>2.000000</td>\n",
       "      <td>1.000000</td>\n",
       "      <td>2.000000</td>\n",
       "      <td>1.000000</td>\n",
       "      <td>1.000000</td>\n",
       "    </tr>\n",
       "    <tr>\n",
       "      <th>50%</th>\n",
       "      <td>4.000000</td>\n",
       "      <td>1.000000</td>\n",
       "      <td>1.000000</td>\n",
       "      <td>1.000000</td>\n",
       "      <td>2.000000</td>\n",
       "      <td>1.000000</td>\n",
       "      <td>3.000000</td>\n",
       "      <td>1.000000</td>\n",
       "      <td>1.000000</td>\n",
       "    </tr>\n",
       "    <tr>\n",
       "      <th>75%</th>\n",
       "      <td>6.000000</td>\n",
       "      <td>5.000000</td>\n",
       "      <td>5.000000</td>\n",
       "      <td>4.000000</td>\n",
       "      <td>4.000000</td>\n",
       "      <td>6.000000</td>\n",
       "      <td>5.000000</td>\n",
       "      <td>4.000000</td>\n",
       "      <td>1.000000</td>\n",
       "    </tr>\n",
       "    <tr>\n",
       "      <th>max</th>\n",
       "      <td>10.000000</td>\n",
       "      <td>10.000000</td>\n",
       "      <td>10.000000</td>\n",
       "      <td>10.000000</td>\n",
       "      <td>10.000000</td>\n",
       "      <td>10.000000</td>\n",
       "      <td>10.000000</td>\n",
       "      <td>10.000000</td>\n",
       "      <td>10.000000</td>\n",
       "    </tr>\n",
       "  </tbody>\n",
       "</table>\n",
       "</div>"
      ],
      "text/plain": [
       "       clump_thick   cell_size  cell_shape  margin_adhesion  cell_size_epi  \\\n",
       "count   683.000000  683.000000  683.000000       683.000000     683.000000   \n",
       "mean      4.442167    3.150805    3.215227         2.830161       3.234261   \n",
       "std       2.820761    3.065145    2.988581         2.864562       2.223085   \n",
       "min       1.000000    1.000000    1.000000         1.000000       1.000000   \n",
       "25%       2.000000    1.000000    1.000000         1.000000       2.000000   \n",
       "50%       4.000000    1.000000    1.000000         1.000000       2.000000   \n",
       "75%       6.000000    5.000000    5.000000         4.000000       4.000000   \n",
       "max      10.000000   10.000000   10.000000        10.000000      10.000000   \n",
       "\n",
       "       bare_nuclei  bland_chromatin  normal_nucleoli     mitoses  \n",
       "count   683.000000       683.000000       683.000000  683.000000  \n",
       "mean      3.544656         3.445095         2.869693    1.603221  \n",
       "std       3.643857         2.449697         3.052666    1.732674  \n",
       "min       1.000000         1.000000         1.000000    1.000000  \n",
       "25%       1.000000         2.000000         1.000000    1.000000  \n",
       "50%       1.000000         3.000000         1.000000    1.000000  \n",
       "75%       6.000000         5.000000         4.000000    1.000000  \n",
       "max      10.000000        10.000000        10.000000   10.000000  "
      ]
     },
     "execution_count": 10,
     "metadata": {},
     "output_type": "execute_result"
    }
   ],
   "source": [
    "# Separating out label variable \n",
    "y = df['Class']\n",
    "\n",
    "\n",
    "# Separating out the predictors\n",
    "x = df.drop(['ID', 'Class'],axis = 1 )\n",
    "x.shape\n",
    "x.describe()"
   ]
  },
  {
   "cell_type": "markdown",
   "metadata": {},
   "source": [
    "\n",
    "\n",
    "## Data Visualizations"
   ]
  },
  {
   "cell_type": "markdown",
   "metadata": {},
   "source": [
    "To have a better sense of my data, I am going to explore its distributions with different visualizations.\n",
    "\n",
    "#### Label data"
   ]
  },
  {
   "cell_type": "code",
   "execution_count": 11,
   "metadata": {},
   "outputs": [
    {
     "name": "stdout",
     "output_type": "stream",
     "text": [
      "Benign biopsies:  444 ( 65 %)\n",
      "Malignant biopsies:  239 ( 35 %)\n"
     ]
    },
    {
     "data": {
      "text/plain": [
       "<matplotlib.axes._subplots.AxesSubplot at 0x7f17e598e2e8>"
      ]
     },
     "execution_count": 11,
     "metadata": {},
     "output_type": "execute_result"
    },
    {
     "data": {
      "image/png": "[encoded data removed]",
      "text/plain": [
       "<Figure size 432x288 with 1 Axes>"
      ]
     },
     "metadata": {
      "needs_background": "light"
     },
     "output_type": "display_data"
    }
   ],
   "source": [
    "# Exploring distribution of y\n",
    "B, M = y.value_counts()\n",
    "B_percent = round(B/(B+M)*100)\n",
    "M_percent = round(M/(M+B)*100)\n",
    "print('Benign biopsies: ',B, '(', B_percent, '%)' )\n",
    "print('Malignant biopsies: ',M,'(', M_percent, '%)')\n",
    "\n",
    "# Plotting the distribution of y\n",
    "sns.countplot(y,label=\"Count\")"
   ]
  },
  {
   "cell_type": "markdown",
   "metadata": {},
   "source": [
    "#### Features data\n",
    "Now, I will like to know the distribution of the different features. To begin, I will like to visualize the summary statistics of the features, and how they vary with the different classes of the label data. To do this, I am going to use a boxplot.\n",
    "\n",
    "##### Boxplot"
   ]
  },
  {
   "cell_type": "code",
   "execution_count": 72,
   "metadata": {},
   "outputs": [
    {
     "data": {
      "text/html": [
       "<div>\n",
       "<style scoped>\n",
       "    .dataframe tbody tr th:only-of-type {\n",
       "        vertical-align: middle;\n",
       "    }\n",
       "\n",
       "    .dataframe tbody tr th {\n",
       "        vertical-align: top;\n",
       "    }\n",
       "\n",
       "    .dataframe thead th {\n",
       "        text-align: right;\n",
       "    }\n",
       "</style>\n",
       "<table border=\"1\" class=\"dataframe\">\n",
       "  <thead>\n",
       "    <tr style=\"text-align: right;\">\n",
       "      <th></th>\n",
       "      <th>clump_thick</th>\n",
       "      <th>cell_size</th>\n",
       "      <th>cell_shape</th>\n",
       "      <th>margin_adhesion</th>\n",
       "      <th>cell_size_epi</th>\n",
       "      <th>bare_nuclei</th>\n",
       "      <th>bland_chromatin</th>\n",
       "      <th>normal_nucleoli</th>\n",
       "      <th>mitoses</th>\n",
       "    </tr>\n",
       "  </thead>\n",
       "  <tbody>\n",
       "    <tr>\n",
       "      <th>0</th>\n",
       "      <td>5</td>\n",
       "      <td>1</td>\n",
       "      <td>1</td>\n",
       "      <td>1</td>\n",
       "      <td>2</td>\n",
       "      <td>1</td>\n",
       "      <td>3</td>\n",
       "      <td>1</td>\n",
       "      <td>1</td>\n",
       "    </tr>\n",
       "    <tr>\n",
       "      <th>1</th>\n",
       "      <td>5</td>\n",
       "      <td>4</td>\n",
       "      <td>4</td>\n",
       "      <td>5</td>\n",
       "      <td>7</td>\n",
       "      <td>10</td>\n",
       "      <td>3</td>\n",
       "      <td>2</td>\n",
       "      <td>1</td>\n",
       "    </tr>\n",
       "    <tr>\n",
       "      <th>2</th>\n",
       "      <td>3</td>\n",
       "      <td>1</td>\n",
       "      <td>1</td>\n",
       "      <td>1</td>\n",
       "      <td>2</td>\n",
       "      <td>2</td>\n",
       "      <td>3</td>\n",
       "      <td>1</td>\n",
       "      <td>1</td>\n",
       "    </tr>\n",
       "    <tr>\n",
       "      <th>3</th>\n",
       "      <td>6</td>\n",
       "      <td>8</td>\n",
       "      <td>8</td>\n",
       "      <td>1</td>\n",
       "      <td>3</td>\n",
       "      <td>4</td>\n",
       "      <td>3</td>\n",
       "      <td>7</td>\n",
       "      <td>1</td>\n",
       "    </tr>\n",
       "    <tr>\n",
       "      <th>4</th>\n",
       "      <td>4</td>\n",
       "      <td>1</td>\n",
       "      <td>1</td>\n",
       "      <td>3</td>\n",
       "      <td>2</td>\n",
       "      <td>1</td>\n",
       "      <td>3</td>\n",
       "      <td>1</td>\n",
       "      <td>1</td>\n",
       "    </tr>\n",
       "  </tbody>\n",
       "</table>\n",
       "</div>"
      ],
      "text/plain": [
       "   clump_thick  cell_size  cell_shape  margin_adhesion  cell_size_epi  \\\n",
       "0            5          1           1                1              2   \n",
       "1            5          4           4                5              7   \n",
       "2            3          1           1                1              2   \n",
       "3            6          8           8                1              3   \n",
       "4            4          1           1                3              2   \n",
       "\n",
       "   bare_nuclei  bland_chromatin  normal_nucleoli  mitoses  \n",
       "0            1                3                1        1  \n",
       "1           10                3                2        1  \n",
       "2            2                3                1        1  \n",
       "3            4                3                7        1  \n",
       "4            1                3                1        1  "
      ]
     },
     "execution_count": 72,
     "metadata": {},
     "output_type": "execute_result"
    }
   ],
   "source": [
    "x.head()"
   ]
  },
  {
   "cell_type": "code",
   "execution_count": 75,
   "metadata": {},
   "outputs": [
    {
     "data": {
      "text/plain": [
       "(array([0, 1, 2, 3, 4, 5, 6, 7, 8]), <a list of 9 Text xticklabel objects>)"
      ]
     },
     "execution_count": 75,
     "metadata": {},
     "output_type": "execute_result"
    },
    {
     "data": {
      "image/png": "[encoded data removed]",
      "text/plain": [
       "<Figure size 360x360 with 1 Axes>"
      ]
     },
     "metadata": {
      "needs_background": "light"
     },
     "output_type": "display_data"
    }
   ],
   "source": [
    "# Recombining data and melting dataframe\n",
    "data = pd.concat([y,x],axis=1)\n",
    "data = pd.melt(data,id_vars=\"Class\",\n",
    "                    var_name=\"Features\",\n",
    "                    value_name='Value')\n",
    "\n",
    "plt.figure(figsize=(5,5))\n",
    "sns.boxplot(x=\"Features\", y=\"Value\", hue=\"Class\", data=data)\n",
    "plt.xticks(rotation=90)"
   ]
  },
  {
   "cell_type": "markdown",
   "metadata": {},
   "source": [
    "From the snapshot the boxplot gives, there seems to be good separation of features between classes. There are many outliers too. To see a full distribution of the data, I am going to construct violin plots.\n",
    "\n",
    "##### Violin Plot"
   ]
  },
  {
   "cell_type": "code",
   "execution_count": 74,
   "metadata": {},
   "outputs": [
    {
     "data": {
      "text/plain": [
       "(array([0, 1, 2, 3, 4, 5, 6, 7, 8]), <a list of 9 Text xticklabel objects>)"
      ]
     },
     "execution_count": 74,
     "metadata": {},
     "output_type": "execute_result"
    },
    {
     "data": {
      "image/png": "[encoded data removed]",
      "text/plain": [
       "<Figure size 720x360 with 1 Axes>"
      ]
     },
     "metadata": {
      "needs_background": "light"
     },
     "output_type": "display_data"
    }
   ],
   "source": [
    "plt.figure(figsize=(10,5))\n",
    "sns.violinplot(x=\"Features\", y=\"Value\", hue=\"Class\", data=data,split=True, inner=\"quart\")\n",
    "plt.xticks(rotation=90)"
   ]
  },
  {
   "cell_type": "markdown",
   "metadata": {},
   "source": [
    "The violin plot shows that the outliers of the malignant class registered on the boxplot is from its generally large variances. \n",
    "\n",
    "I am now going to investigate any pairwise correlation between predictors.\n",
    "### Pairwise correlation"
   ]
  },
  {
   "cell_type": "code",
   "execution_count": 18,
   "metadata": {},
   "outputs": [
    {
     "data": {
      "text/plain": [
       "<matplotlib.axes._subplots.AxesSubplot at 0x7f17e5010438>"
      ]
     },
     "execution_count": 18,
     "metadata": {},
     "output_type": "execute_result"
    },
    {
     "data": {
      "image/png": "[encoded data removed]",
      "text/plain": [
       "<Figure size 360x360 with 2 Axes>"
      ]
     },
     "metadata": {
      "needs_background": "light"
     },
     "output_type": "display_data"
    }
   ],
   "source": [
    "#correlation map\n",
    "f,ax = plt.subplots(figsize=(5, 5))\n",
    "sns.heatmap(x.corr(), annot=True, linewidths=.5, fmt= '.1f',ax=ax)"
   ]
  },
  {
   "cell_type": "markdown",
   "metadata": {},
   "source": [
    "Cell size is correlated with many other features: \n",
    "- cell size and cell shape (90%)\n",
    "- cell size and cell size epit (80%)\n",
    "- cell size and bland chromatin (80%)"
   ]
  },
  {
   "cell_type": "markdown",
   "metadata": {},
   "source": [
    "### Classification\n",
    "\n",
    "- I am going to use the random forest classsifier for analyses because it is robust against overfitting. \n",
    "- With my sample size being relatively small, I am going to perform a 10-fold cross validation. \n",
    "- I am doing this so I can rigorously test the stability of my model. \n",
    "- Classes are imbalanced so I am going to stratify my sampling during split to ensure representative frequencies in each split. I am also going to apply weights to model sampling during training.\n",
    "- In our context, the cost of predicting a false negative is high, so I am going to optimize my model training on recall."
   ]
  },
  {
   "cell_type": "code",
   "execution_count": 62,
   "metadata": {},
   "outputs": [],
   "source": [
    "# Function to perform cross validation\n",
    "def grid_search_wrapper(refit_score='recall_score'):\n",
    "    \"\"\"\n",
    "    fits a GridSearchCV classifier using refit_score for optimization\n",
    "    prints classifier performance metrics\n",
    "    \"\"\"\n",
    "    skf = StratifiedKFold(n_splits=10)\n",
    "    grid_search = GridSearchCV(clf, param_grid, scoring=scorers, refit=refit_score,\n",
    "                           cv=skf, return_train_score=True, n_jobs=-1)\n",
    "    grid_search.fit(X_train.values, y_train.values)\n",
    "\n",
    "    # make the predictions\n",
    "    y_pred = grid_search.predict(X_test.values)\n",
    "\n",
    "    print('Best params for {}'.format(refit_score))\n",
    "    print(grid_search.best_params_)\n",
    "\n",
    "    # confusion matrix on the test data.\n",
    "    print('\\nConfusion matrix of Random Forest optimized for {} on the test data:'.format(refit_score))\n",
    "    print(pd.DataFrame(confusion_matrix(y_test, y_pred),\n",
    "                 columns=['pred_neg', 'pred_pos'], index=['neg', 'pos']))\n",
    "    return grid_search"
   ]
  },
  {
   "cell_type": "code",
   "execution_count": 64,
   "metadata": {},
   "outputs": [],
   "source": [
    "# Setting a range of values to tune on\n",
    "clf = RandomForestClassifier(n_jobs=-1, class_weight=\"balanced\")\n",
    "\n",
    "param_grid = {\n",
    "    'min_samples_split': [3, 5, 10], \n",
    "    'n_estimators' : [5,9, 10,15, 20,30, 50, 100],\n",
    "    'max_depth': [3, 5, 15, 25]\n",
    "}\n",
    "\n",
    "scorers = {\n",
    "    'precision_score': make_scorer(precision_score),\n",
    "    'recall_score': make_scorer(recall_score),\n",
    "    'accuracy_score': make_scorer(accuracy_score)\n",
    "}\n"
   ]
  },
  {
   "cell_type": "code",
   "execution_count": 65,
   "metadata": {},
   "outputs": [],
   "source": [
    "# Splitting data\n",
    "X_train, X_test, y_train, y_test = train_test_split(x, y, test_size=0.25, random_state=78)"
   ]
  },
  {
   "cell_type": "code",
   "execution_count": 66,
   "metadata": {},
   "outputs": [
    {
     "name": "stderr",
     "output_type": "stream",
     "text": [
      "/home/priscilla/anaconda3/lib/python3.6/site-packages/sklearn/model_selection/_search.py:841: DeprecationWarning: The default of the `iid` parameter will change from True to False in version 0.22 and will be removed in 0.24. This will change numeric results when test-set sizes are unequal.\n",
      "  DeprecationWarning)\n"
     ]
    },
    {
     "name": "stdout",
     "output_type": "stream",
     "text": [
      "Best params for recall_score\n",
      "{'max_depth': 3, 'min_samples_split': 5, 'n_estimators': 30}\n",
      "\n",
      "Confusion matrix of Random Forest optimized for recall_score on the test data:\n",
      "     pred_neg  pred_pos\n",
      "neg       106         4\n",
      "pos         2        59\n"
     ]
    }
   ],
   "source": [
    "# Actual model development\n",
    "grid_search_clf = grid_search_wrapper(refit_score='recall_score') \n"
   ]
  },
  {
   "cell_type": "code",
   "execution_count": 67,
   "metadata": {},
   "outputs": [
    {
     "data": {
      "text/html": [
       "<div>\n",
       "<style scoped>\n",
       "    .dataframe tbody tr th:only-of-type {\n",
       "        vertical-align: middle;\n",
       "    }\n",
       "\n",
       "    .dataframe tbody tr th {\n",
       "        vertical-align: top;\n",
       "    }\n",
       "\n",
       "    .dataframe thead th {\n",
       "        text-align: right;\n",
       "    }\n",
       "</style>\n",
       "<table border=\"1\" class=\"dataframe\">\n",
       "  <thead>\n",
       "    <tr style=\"text-align: right;\">\n",
       "      <th></th>\n",
       "      <th>mean_test_precision_score</th>\n",
       "      <th>mean_test_recall_score</th>\n",
       "      <th>mean_test_accuracy_score</th>\n",
       "      <th>param_max_depth</th>\n",
       "      <th>param_min_samples_split</th>\n",
       "      <th>param_n_estimators</th>\n",
       "    </tr>\n",
       "  </thead>\n",
       "  <tbody>\n",
       "    <tr>\n",
       "      <th>72</th>\n",
       "      <td>0.952</td>\n",
       "      <td>0.944</td>\n",
       "      <td>0.963</td>\n",
       "      <td>25</td>\n",
       "      <td>3</td>\n",
       "      <td>5</td>\n",
       "    </tr>\n",
       "    <tr>\n",
       "      <th>83</th>\n",
       "      <td>0.947</td>\n",
       "      <td>0.961</td>\n",
       "      <td>0.967</td>\n",
       "      <td>25</td>\n",
       "      <td>5</td>\n",
       "      <td>15</td>\n",
       "    </tr>\n",
       "    <tr>\n",
       "      <th>78</th>\n",
       "      <td>0.946</td>\n",
       "      <td>0.961</td>\n",
       "      <td>0.967</td>\n",
       "      <td>25</td>\n",
       "      <td>3</td>\n",
       "      <td>50</td>\n",
       "    </tr>\n",
       "    <tr>\n",
       "      <th>41</th>\n",
       "      <td>0.944</td>\n",
       "      <td>0.983</td>\n",
       "      <td>0.973</td>\n",
       "      <td>5</td>\n",
       "      <td>10</td>\n",
       "      <td>9</td>\n",
       "    </tr>\n",
       "    <tr>\n",
       "      <th>51</th>\n",
       "      <td>0.943</td>\n",
       "      <td>0.977</td>\n",
       "      <td>0.971</td>\n",
       "      <td>15</td>\n",
       "      <td>3</td>\n",
       "      <td>15</td>\n",
       "    </tr>\n",
       "  </tbody>\n",
       "</table>\n",
       "</div>"
      ],
      "text/plain": [
       "    mean_test_precision_score  mean_test_recall_score  \\\n",
       "72                      0.952                   0.944   \n",
       "83                      0.947                   0.961   \n",
       "78                      0.946                   0.961   \n",
       "41                      0.944                   0.983   \n",
       "51                      0.943                   0.977   \n",
       "\n",
       "    mean_test_accuracy_score param_max_depth param_min_samples_split  \\\n",
       "72                     0.963              25                       3   \n",
       "83                     0.967              25                       5   \n",
       "78                     0.967              25                       3   \n",
       "41                     0.973               5                      10   \n",
       "51                     0.971              15                       3   \n",
       "\n",
       "   param_n_estimators  \n",
       "72                  5  \n",
       "83                 15  \n",
       "78                 50  \n",
       "41                  9  \n",
       "51                 15  "
      ]
     },
     "execution_count": 67,
     "metadata": {},
     "output_type": "execute_result"
    }
   ],
   "source": [
    "results = pd.DataFrame(grid_search_clf.cv_results_)\n",
    "results = results.sort_values(by='mean_test_precision_score', ascending=False)\n",
    "results[['mean_test_precision_score', 'mean_test_recall_score', 'mean_test_accuracy_score', 'param_max_depth',  'param_min_samples_split', 'param_n_estimators']].round(3).head()\n"
   ]
  },
  {
   "cell_type": "code",
   "execution_count": 61,
   "metadata": {},
   "outputs": [
    {
     "name": "stdout",
     "output_type": "stream",
     "text": [
      "Accuracy is:  0.9824561403508771\n"
     ]
    },
    {
     "data": {
      "text/plain": [
       "<matplotlib.axes._subplots.AxesSubplot at 0x7f17e2e63ef0>"
      ]
     },
     "execution_count": 61,
     "metadata": {},
     "output_type": "execute_result"
    },
    {
     "data": {
      "image/png": "[encoded data removed]",
      "text/plain": [
       "<Figure size 432x288 with 2 Axes>"
      ]
     },
     "metadata": {
      "needs_background": "light"
     },
     "output_type": "display_data"
    }
   ],
   "source": [
    "# Building one cohesive on dataset model\n",
    "\n",
    "#random forest classifier with n_estimators=10 (default)\n",
    "clf_rf = RandomForestClassifier(n_estimators=9, random_state=67)      \n",
    "clr_rf = clf_rf.fit(X_train,y_train)\n",
    "\n",
    "ac = accuracy_score(y_test,clf_rf.predict(x_test))\n",
    "print('Accuracy is: ',ac)\n",
    "cm = confusion_matrix(y_test,clf_rf.predict(x_test))\n",
    "sns.heatmap(cm,annot=True,fmt=\"d\")"
   ]
  }
 ],
 "metadata": {
  "kernelspec": {
   "display_name": "Python 3",
   "language": "python",
   "name": "python3"
  },
  "language_info": {
   "codemirror_mode": {
    "name": "ipython",
    "version": 3
   },
   "file_extension": ".py",
   "mimetype": "text/x-python",
   "name": "python",
   "nbconvert_exporter": "python",
   "pygments_lexer": "ipython3",
   "version": "3.6.8"
  }
 },
 "nbformat": 4,
 "nbformat_minor": 2
}
